{
  "nbformat": 4,
  "nbformat_minor": 0,
  "metadata": {
    "colab": {
      "provenance": [],
      "authorship_tag": "ABX9TyM6kgyV85rlE8884pX1UZQX",
      "include_colab_link": true
    },
    "kernelspec": {
      "name": "python3",
      "display_name": "Python 3"
    },
    "language_info": {
      "name": "python"
    }
  },
  "cells": [
    {
      "cell_type": "markdown",
      "metadata": {
        "id": "view-in-github",
        "colab_type": "text"
      },
      "source": [
        "<a href=\"https://colab.research.google.com/github/Sousthabd/LGM_TASKS/blob/main/Stockmarketpre_task2.ipynb\" target=\"_parent\"><img src=\"https://colab.research.google.com/assets/colab-badge.svg\" alt=\"Open In Colab\"/></a>"
      ]
    },
    {
      "cell_type": "markdown",
      "source": [
        "**LETS GROW MORE**"
      ],
      "metadata": {
        "id": "607cp_m79Tqd"
      }
    },
    {
      "cell_type": "markdown",
      "source": [
        "**DATA SCIENCE TASK 2 : Stock Market Prediction And Forecasting Using Stacked LSTM**"
      ],
      "metadata": {
        "id": "Tu-4zldT9H1j"
      }
    },
    {
      "cell_type": "markdown",
      "source": [
        "**DATASET LINK : https://raw.githubusercontent.com/mwitiderrick/stockprice/master/NSE-TATAGLOBAL.csv**"
      ],
      "metadata": {
        "id": "SsbM3_nY5UQV"
      }
    },
    {
      "cell_type": "markdown",
      "source": [
        "**DETAILS :** LSTMs are widely used for sequence prediction problems and have proven to be extremely effective. The reason they work so well is that LSTM can store past important information and forget the information that is not. LSTM has three gates:\n",
        "The input gate: The input gate adds information to the cell state,\n",
        "The forget gate: It removes the information that is no longer required by the model, The output gate: Output Gate at LSTM selects the information to be shown as output.While Implementing any LSTM, we should always reshape our X train in 3-D, add 1 the reason behind is the time step and the 1 is given to the LSTM.\n",
        "The steps:\n",
        "1.Loading the Data\n",
        "2.Train and Test Split\n",
        "3.Data Preprocessing\n",
        "4.LSTM\n",
        "5.Prediction\n",
        "6.Conclusion"
      ],
      "metadata": {
        "id": "EuzaoZaT8qBQ"
      }
    },
    {
      "cell_type": "markdown",
      "source": [
        "**SOUSTHAB DAS**"
      ],
      "metadata": {
        "id": "ibs_s_pc9ZRu"
      }
    },
    {
      "cell_type": "code",
      "execution_count": 1,
      "metadata": {
        "id": "XePBEp8s5Ss7"
      },
      "outputs": [],
      "source": [
        "import pandas as pd\n",
        "import numpy as np\n",
        "import seaborn as sns\n",
        "import matplotlib.pyplot as plt\n",
        "%matplotlib inline"
      ]
    },
    {
      "cell_type": "code",
      "source": [
        "df =pd.read_csv('/NSE-TATAGLOBAL.csv')\n",
        "df=df.iloc[::-1]\n",
        "df.head()"
      ],
      "metadata": {
        "colab": {
          "base_uri": "https://localhost:8080/",
          "height": 206
        },
        "id": "h76rNKUP5gwl",
        "outputId": "795e61f4-ad61-46b2-d882-eb8c3241dfa7"
      },
      "execution_count": 2,
      "outputs": [
        {
          "output_type": "execute_result",
          "data": {
            "text/plain": [
              "            Date   Open    High     Low    Last   Close  Total Trade Quantity  \\\n",
              "2034  2010-07-21  122.1  123.00  121.05  121.10  121.55                658666   \n",
              "2033  2010-07-22  120.3  122.00  120.25  120.75  120.90                293312   \n",
              "2032  2010-07-23  121.8  121.95  120.25  120.35  120.65                281312   \n",
              "2031  2010-07-26  120.1  121.00  117.10  117.10  117.60                658440   \n",
              "2030  2010-07-27  117.6  119.50  112.00  118.80  118.65                586100   \n",
              "\n",
              "      Turnover (Lacs)  \n",
              "2034           803.56  \n",
              "2033           355.17  \n",
              "2032           340.31  \n",
              "2031           780.01  \n",
              "2030           694.98  "
            ],
            "text/html": [
              "\n",
              "  <div id=\"df-e5732861-bbad-4179-86d0-cf614043894e\">\n",
              "    <div class=\"colab-df-container\">\n",
              "      <div>\n",
              "<style scoped>\n",
              "    .dataframe tbody tr th:only-of-type {\n",
              "        vertical-align: middle;\n",
              "    }\n",
              "\n",
              "    .dataframe tbody tr th {\n",
              "        vertical-align: top;\n",
              "    }\n",
              "\n",
              "    .dataframe thead th {\n",
              "        text-align: right;\n",
              "    }\n",
              "</style>\n",
              "<table border=\"1\" class=\"dataframe\">\n",
              "  <thead>\n",
              "    <tr style=\"text-align: right;\">\n",
              "      <th></th>\n",
              "      <th>Date</th>\n",
              "      <th>Open</th>\n",
              "      <th>High</th>\n",
              "      <th>Low</th>\n",
              "      <th>Last</th>\n",
              "      <th>Close</th>\n",
              "      <th>Total Trade Quantity</th>\n",
              "      <th>Turnover (Lacs)</th>\n",
              "    </tr>\n",
              "  </thead>\n",
              "  <tbody>\n",
              "    <tr>\n",
              "      <th>2034</th>\n",
              "      <td>2010-07-21</td>\n",
              "      <td>122.1</td>\n",
              "      <td>123.00</td>\n",
              "      <td>121.05</td>\n",
              "      <td>121.10</td>\n",
              "      <td>121.55</td>\n",
              "      <td>658666</td>\n",
              "      <td>803.56</td>\n",
              "    </tr>\n",
              "    <tr>\n",
              "      <th>2033</th>\n",
              "      <td>2010-07-22</td>\n",
              "      <td>120.3</td>\n",
              "      <td>122.00</td>\n",
              "      <td>120.25</td>\n",
              "      <td>120.75</td>\n",
              "      <td>120.90</td>\n",
              "      <td>293312</td>\n",
              "      <td>355.17</td>\n",
              "    </tr>\n",
              "    <tr>\n",
              "      <th>2032</th>\n",
              "      <td>2010-07-23</td>\n",
              "      <td>121.8</td>\n",
              "      <td>121.95</td>\n",
              "      <td>120.25</td>\n",
              "      <td>120.35</td>\n",
              "      <td>120.65</td>\n",
              "      <td>281312</td>\n",
              "      <td>340.31</td>\n",
              "    </tr>\n",
              "    <tr>\n",
              "      <th>2031</th>\n",
              "      <td>2010-07-26</td>\n",
              "      <td>120.1</td>\n",
              "      <td>121.00</td>\n",
              "      <td>117.10</td>\n",
              "      <td>117.10</td>\n",
              "      <td>117.60</td>\n",
              "      <td>658440</td>\n",
              "      <td>780.01</td>\n",
              "    </tr>\n",
              "    <tr>\n",
              "      <th>2030</th>\n",
              "      <td>2010-07-27</td>\n",
              "      <td>117.6</td>\n",
              "      <td>119.50</td>\n",
              "      <td>112.00</td>\n",
              "      <td>118.80</td>\n",
              "      <td>118.65</td>\n",
              "      <td>586100</td>\n",
              "      <td>694.98</td>\n",
              "    </tr>\n",
              "  </tbody>\n",
              "</table>\n",
              "</div>\n",
              "      <button class=\"colab-df-convert\" onclick=\"convertToInteractive('df-e5732861-bbad-4179-86d0-cf614043894e')\"\n",
              "              title=\"Convert this dataframe to an interactive table.\"\n",
              "              style=\"display:none;\">\n",
              "        \n",
              "  <svg xmlns=\"http://www.w3.org/2000/svg\" height=\"24px\"viewBox=\"0 0 24 24\"\n",
              "       width=\"24px\">\n",
              "    <path d=\"M0 0h24v24H0V0z\" fill=\"none\"/>\n",
              "    <path d=\"M18.56 5.44l.94 2.06.94-2.06 2.06-.94-2.06-.94-.94-2.06-.94 2.06-2.06.94zm-11 1L8.5 8.5l.94-2.06 2.06-.94-2.06-.94L8.5 2.5l-.94 2.06-2.06.94zm10 10l.94 2.06.94-2.06 2.06-.94-2.06-.94-.94-2.06-.94 2.06-2.06.94z\"/><path d=\"M17.41 7.96l-1.37-1.37c-.4-.4-.92-.59-1.43-.59-.52 0-1.04.2-1.43.59L10.3 9.45l-7.72 7.72c-.78.78-.78 2.05 0 2.83L4 21.41c.39.39.9.59 1.41.59.51 0 1.02-.2 1.41-.59l7.78-7.78 2.81-2.81c.8-.78.8-2.07 0-2.86zM5.41 20L4 18.59l7.72-7.72 1.47 1.35L5.41 20z\"/>\n",
              "  </svg>\n",
              "      </button>\n",
              "      \n",
              "  <style>\n",
              "    .colab-df-container {\n",
              "      display:flex;\n",
              "      flex-wrap:wrap;\n",
              "      gap: 12px;\n",
              "    }\n",
              "\n",
              "    .colab-df-convert {\n",
              "      background-color: #E8F0FE;\n",
              "      border: none;\n",
              "      border-radius: 50%;\n",
              "      cursor: pointer;\n",
              "      display: none;\n",
              "      fill: #1967D2;\n",
              "      height: 32px;\n",
              "      padding: 0 0 0 0;\n",
              "      width: 32px;\n",
              "    }\n",
              "\n",
              "    .colab-df-convert:hover {\n",
              "      background-color: #E2EBFA;\n",
              "      box-shadow: 0px 1px 2px rgba(60, 64, 67, 0.3), 0px 1px 3px 1px rgba(60, 64, 67, 0.15);\n",
              "      fill: #174EA6;\n",
              "    }\n",
              "\n",
              "    [theme=dark] .colab-df-convert {\n",
              "      background-color: #3B4455;\n",
              "      fill: #D2E3FC;\n",
              "    }\n",
              "\n",
              "    [theme=dark] .colab-df-convert:hover {\n",
              "      background-color: #434B5C;\n",
              "      box-shadow: 0px 1px 3px 1px rgba(0, 0, 0, 0.15);\n",
              "      filter: drop-shadow(0px 1px 2px rgba(0, 0, 0, 0.3));\n",
              "      fill: #FFFFFF;\n",
              "    }\n",
              "  </style>\n",
              "\n",
              "      <script>\n",
              "        const buttonEl =\n",
              "          document.querySelector('#df-e5732861-bbad-4179-86d0-cf614043894e button.colab-df-convert');\n",
              "        buttonEl.style.display =\n",
              "          google.colab.kernel.accessAllowed ? 'block' : 'none';\n",
              "\n",
              "        async function convertToInteractive(key) {\n",
              "          const element = document.querySelector('#df-e5732861-bbad-4179-86d0-cf614043894e');\n",
              "          const dataTable =\n",
              "            await google.colab.kernel.invokeFunction('convertToInteractive',\n",
              "                                                     [key], {});\n",
              "          if (!dataTable) return;\n",
              "\n",
              "          const docLinkHtml = 'Like what you see? Visit the ' +\n",
              "            '<a target=\"_blank\" href=https://colab.research.google.com/notebooks/data_table.ipynb>data table notebook</a>'\n",
              "            + ' to learn more about interactive tables.';\n",
              "          element.innerHTML = '';\n",
              "          dataTable['output_type'] = 'display_data';\n",
              "          await google.colab.output.renderOutput(dataTable, element);\n",
              "          const docLink = document.createElement('div');\n",
              "          docLink.innerHTML = docLinkHtml;\n",
              "          element.appendChild(docLink);\n",
              "        }\n",
              "      </script>\n",
              "    </div>\n",
              "  </div>\n",
              "  "
            ]
          },
          "metadata": {},
          "execution_count": 2
        }
      ]
    },
    {
      "cell_type": "code",
      "source": [
        "df.tail()"
      ],
      "metadata": {
        "colab": {
          "base_uri": "https://localhost:8080/",
          "height": 206
        },
        "id": "1TnQgvlX6dUm",
        "outputId": "d51ffb71-1080-42a2-a9f7-71f5603ea50e"
      },
      "execution_count": 3,
      "outputs": [
        {
          "output_type": "execute_result",
          "data": {
            "text/plain": [
              "         Date    Open    High     Low    Last   Close  Total Trade Quantity  \\\n",
              "4  2018-09-24  233.55  239.20  230.75  234.00  233.30               3423509   \n",
              "3  2018-09-25  233.30  236.75  232.00  236.25  236.10               2349368   \n",
              "2  2018-09-26  240.00  240.00  232.50  235.00  234.25               2240909   \n",
              "1  2018-09-27  234.55  236.80  231.10  233.80  233.25               5082859   \n",
              "0  2018-09-28  234.05  235.95  230.20  233.50  233.75               3069914   \n",
              "\n",
              "   Turnover (Lacs)  \n",
              "4          7999.55  \n",
              "3          5503.90  \n",
              "2          5248.60  \n",
              "1         11859.95  \n",
              "0          7162.35  "
            ],
            "text/html": [
              "\n",
              "  <div id=\"df-d7bd91fa-a95d-4703-9570-1aa60a8a6790\">\n",
              "    <div class=\"colab-df-container\">\n",
              "      <div>\n",
              "<style scoped>\n",
              "    .dataframe tbody tr th:only-of-type {\n",
              "        vertical-align: middle;\n",
              "    }\n",
              "\n",
              "    .dataframe tbody tr th {\n",
              "        vertical-align: top;\n",
              "    }\n",
              "\n",
              "    .dataframe thead th {\n",
              "        text-align: right;\n",
              "    }\n",
              "</style>\n",
              "<table border=\"1\" class=\"dataframe\">\n",
              "  <thead>\n",
              "    <tr style=\"text-align: right;\">\n",
              "      <th></th>\n",
              "      <th>Date</th>\n",
              "      <th>Open</th>\n",
              "      <th>High</th>\n",
              "      <th>Low</th>\n",
              "      <th>Last</th>\n",
              "      <th>Close</th>\n",
              "      <th>Total Trade Quantity</th>\n",
              "      <th>Turnover (Lacs)</th>\n",
              "    </tr>\n",
              "  </thead>\n",
              "  <tbody>\n",
              "    <tr>\n",
              "      <th>4</th>\n",
              "      <td>2018-09-24</td>\n",
              "      <td>233.55</td>\n",
              "      <td>239.20</td>\n",
              "      <td>230.75</td>\n",
              "      <td>234.00</td>\n",
              "      <td>233.30</td>\n",
              "      <td>3423509</td>\n",
              "      <td>7999.55</td>\n",
              "    </tr>\n",
              "    <tr>\n",
              "      <th>3</th>\n",
              "      <td>2018-09-25</td>\n",
              "      <td>233.30</td>\n",
              "      <td>236.75</td>\n",
              "      <td>232.00</td>\n",
              "      <td>236.25</td>\n",
              "      <td>236.10</td>\n",
              "      <td>2349368</td>\n",
              "      <td>5503.90</td>\n",
              "    </tr>\n",
              "    <tr>\n",
              "      <th>2</th>\n",
              "      <td>2018-09-26</td>\n",
              "      <td>240.00</td>\n",
              "      <td>240.00</td>\n",
              "      <td>232.50</td>\n",
              "      <td>235.00</td>\n",
              "      <td>234.25</td>\n",
              "      <td>2240909</td>\n",
              "      <td>5248.60</td>\n",
              "    </tr>\n",
              "    <tr>\n",
              "      <th>1</th>\n",
              "      <td>2018-09-27</td>\n",
              "      <td>234.55</td>\n",
              "      <td>236.80</td>\n",
              "      <td>231.10</td>\n",
              "      <td>233.80</td>\n",
              "      <td>233.25</td>\n",
              "      <td>5082859</td>\n",
              "      <td>11859.95</td>\n",
              "    </tr>\n",
              "    <tr>\n",
              "      <th>0</th>\n",
              "      <td>2018-09-28</td>\n",
              "      <td>234.05</td>\n",
              "      <td>235.95</td>\n",
              "      <td>230.20</td>\n",
              "      <td>233.50</td>\n",
              "      <td>233.75</td>\n",
              "      <td>3069914</td>\n",
              "      <td>7162.35</td>\n",
              "    </tr>\n",
              "  </tbody>\n",
              "</table>\n",
              "</div>\n",
              "      <button class=\"colab-df-convert\" onclick=\"convertToInteractive('df-d7bd91fa-a95d-4703-9570-1aa60a8a6790')\"\n",
              "              title=\"Convert this dataframe to an interactive table.\"\n",
              "              style=\"display:none;\">\n",
              "        \n",
              "  <svg xmlns=\"http://www.w3.org/2000/svg\" height=\"24px\"viewBox=\"0 0 24 24\"\n",
              "       width=\"24px\">\n",
              "    <path d=\"M0 0h24v24H0V0z\" fill=\"none\"/>\n",
              "    <path d=\"M18.56 5.44l.94 2.06.94-2.06 2.06-.94-2.06-.94-.94-2.06-.94 2.06-2.06.94zm-11 1L8.5 8.5l.94-2.06 2.06-.94-2.06-.94L8.5 2.5l-.94 2.06-2.06.94zm10 10l.94 2.06.94-2.06 2.06-.94-2.06-.94-.94-2.06-.94 2.06-2.06.94z\"/><path d=\"M17.41 7.96l-1.37-1.37c-.4-.4-.92-.59-1.43-.59-.52 0-1.04.2-1.43.59L10.3 9.45l-7.72 7.72c-.78.78-.78 2.05 0 2.83L4 21.41c.39.39.9.59 1.41.59.51 0 1.02-.2 1.41-.59l7.78-7.78 2.81-2.81c.8-.78.8-2.07 0-2.86zM5.41 20L4 18.59l7.72-7.72 1.47 1.35L5.41 20z\"/>\n",
              "  </svg>\n",
              "      </button>\n",
              "      \n",
              "  <style>\n",
              "    .colab-df-container {\n",
              "      display:flex;\n",
              "      flex-wrap:wrap;\n",
              "      gap: 12px;\n",
              "    }\n",
              "\n",
              "    .colab-df-convert {\n",
              "      background-color: #E8F0FE;\n",
              "      border: none;\n",
              "      border-radius: 50%;\n",
              "      cursor: pointer;\n",
              "      display: none;\n",
              "      fill: #1967D2;\n",
              "      height: 32px;\n",
              "      padding: 0 0 0 0;\n",
              "      width: 32px;\n",
              "    }\n",
              "\n",
              "    .colab-df-convert:hover {\n",
              "      background-color: #E2EBFA;\n",
              "      box-shadow: 0px 1px 2px rgba(60, 64, 67, 0.3), 0px 1px 3px 1px rgba(60, 64, 67, 0.15);\n",
              "      fill: #174EA6;\n",
              "    }\n",
              "\n",
              "    [theme=dark] .colab-df-convert {\n",
              "      background-color: #3B4455;\n",
              "      fill: #D2E3FC;\n",
              "    }\n",
              "\n",
              "    [theme=dark] .colab-df-convert:hover {\n",
              "      background-color: #434B5C;\n",
              "      box-shadow: 0px 1px 3px 1px rgba(0, 0, 0, 0.15);\n",
              "      filter: drop-shadow(0px 1px 2px rgba(0, 0, 0, 0.3));\n",
              "      fill: #FFFFFF;\n",
              "    }\n",
              "  </style>\n",
              "\n",
              "      <script>\n",
              "        const buttonEl =\n",
              "          document.querySelector('#df-d7bd91fa-a95d-4703-9570-1aa60a8a6790 button.colab-df-convert');\n",
              "        buttonEl.style.display =\n",
              "          google.colab.kernel.accessAllowed ? 'block' : 'none';\n",
              "\n",
              "        async function convertToInteractive(key) {\n",
              "          const element = document.querySelector('#df-d7bd91fa-a95d-4703-9570-1aa60a8a6790');\n",
              "          const dataTable =\n",
              "            await google.colab.kernel.invokeFunction('convertToInteractive',\n",
              "                                                     [key], {});\n",
              "          if (!dataTable) return;\n",
              "\n",
              "          const docLinkHtml = 'Like what you see? Visit the ' +\n",
              "            '<a target=\"_blank\" href=https://colab.research.google.com/notebooks/data_table.ipynb>data table notebook</a>'\n",
              "            + ' to learn more about interactive tables.';\n",
              "          element.innerHTML = '';\n",
              "          dataTable['output_type'] = 'display_data';\n",
              "          await google.colab.output.renderOutput(dataTable, element);\n",
              "          const docLink = document.createElement('div');\n",
              "          docLink.innerHTML = docLinkHtml;\n",
              "          element.appendChild(docLink);\n",
              "        }\n",
              "      </script>\n",
              "    </div>\n",
              "  </div>\n",
              "  "
            ]
          },
          "metadata": {},
          "execution_count": 3
        }
      ]
    },
    {
      "cell_type": "code",
      "source": [
        "df.shape #getting no of rows and colums"
      ],
      "metadata": {
        "colab": {
          "base_uri": "https://localhost:8080/"
        },
        "id": "Atbh8eZq6hCK",
        "outputId": "707b04e5-6481-4547-dad8-178c6de56353"
      },
      "execution_count": 4,
      "outputs": [
        {
          "output_type": "execute_result",
          "data": {
            "text/plain": [
              "(2035, 8)"
            ]
          },
          "metadata": {},
          "execution_count": 4
        }
      ]
    },
    {
      "cell_type": "code",
      "source": [
        "df.columns"
      ],
      "metadata": {
        "colab": {
          "base_uri": "https://localhost:8080/"
        },
        "id": "-Qd86-Bl6k0J",
        "outputId": "9e7bc2c4-325d-4424-91c4-995348d41d6b"
      },
      "execution_count": 5,
      "outputs": [
        {
          "output_type": "execute_result",
          "data": {
            "text/plain": [
              "Index(['Date', 'Open', 'High', 'Low', 'Last', 'Close', 'Total Trade Quantity',\n",
              "       'Turnover (Lacs)'],\n",
              "      dtype='object')"
            ]
          },
          "metadata": {},
          "execution_count": 5
        }
      ]
    },
    {
      "cell_type": "code",
      "source": [
        "df.info()"
      ],
      "metadata": {
        "colab": {
          "base_uri": "https://localhost:8080/"
        },
        "id": "LYCWmrRN6nbt",
        "outputId": "0cf17fbe-8a7b-4314-bd13-f81d46a0313b"
      },
      "execution_count": 6,
      "outputs": [
        {
          "output_type": "stream",
          "name": "stdout",
          "text": [
            "<class 'pandas.core.frame.DataFrame'>\n",
            "RangeIndex: 2035 entries, 2034 to 0\n",
            "Data columns (total 8 columns):\n",
            " #   Column                Non-Null Count  Dtype  \n",
            "---  ------                --------------  -----  \n",
            " 0   Date                  2035 non-null   object \n",
            " 1   Open                  2035 non-null   float64\n",
            " 2   High                  2035 non-null   float64\n",
            " 3   Low                   2035 non-null   float64\n",
            " 4   Last                  2035 non-null   float64\n",
            " 5   Close                 2035 non-null   float64\n",
            " 6   Total Trade Quantity  2035 non-null   int64  \n",
            " 7   Turnover (Lacs)       2035 non-null   float64\n",
            "dtypes: float64(6), int64(1), object(1)\n",
            "memory usage: 127.3+ KB\n"
          ]
        }
      ]
    },
    {
      "cell_type": "code",
      "source": [
        "df.describe() #description about the data frame"
      ],
      "metadata": {
        "colab": {
          "base_uri": "https://localhost:8080/",
          "height": 300
        },
        "id": "BUt3EJpN6pGY",
        "outputId": "63c41d31-5a12-46d2-a58d-3fb8b295a5a0"
      },
      "execution_count": 7,
      "outputs": [
        {
          "output_type": "execute_result",
          "data": {
            "text/plain": [
              "              Open         High          Low         Last       Close  \\\n",
              "count  2035.000000  2035.000000  2035.000000  2035.000000  2035.00000   \n",
              "mean    149.713735   151.992826   147.293931   149.474251   149.45027   \n",
              "std      48.664509    49.413109    47.931958    48.732570    48.71204   \n",
              "min      81.100000    82.800000    80.000000    81.000000    80.95000   \n",
              "25%     120.025000   122.100000   118.300000   120.075000   120.05000   \n",
              "50%     141.500000   143.400000   139.600000   141.100000   141.25000   \n",
              "75%     157.175000   159.400000   155.150000   156.925000   156.90000   \n",
              "max     327.700000   328.750000   321.650000   325.950000   325.75000   \n",
              "\n",
              "       Total Trade Quantity  Turnover (Lacs)  \n",
              "count          2.035000e+03      2035.000000  \n",
              "mean           2.335681e+06      3899.980565  \n",
              "std            2.091778e+06      4570.767877  \n",
              "min            3.961000e+04        37.040000  \n",
              "25%            1.146444e+06      1427.460000  \n",
              "50%            1.783456e+06      2512.030000  \n",
              "75%            2.813594e+06      4539.015000  \n",
              "max            2.919102e+07     55755.080000  "
            ],
            "text/html": [
              "\n",
              "  <div id=\"df-9edd948d-69b2-44d0-b7f7-f0f656f82708\">\n",
              "    <div class=\"colab-df-container\">\n",
              "      <div>\n",
              "<style scoped>\n",
              "    .dataframe tbody tr th:only-of-type {\n",
              "        vertical-align: middle;\n",
              "    }\n",
              "\n",
              "    .dataframe tbody tr th {\n",
              "        vertical-align: top;\n",
              "    }\n",
              "\n",
              "    .dataframe thead th {\n",
              "        text-align: right;\n",
              "    }\n",
              "</style>\n",
              "<table border=\"1\" class=\"dataframe\">\n",
              "  <thead>\n",
              "    <tr style=\"text-align: right;\">\n",
              "      <th></th>\n",
              "      <th>Open</th>\n",
              "      <th>High</th>\n",
              "      <th>Low</th>\n",
              "      <th>Last</th>\n",
              "      <th>Close</th>\n",
              "      <th>Total Trade Quantity</th>\n",
              "      <th>Turnover (Lacs)</th>\n",
              "    </tr>\n",
              "  </thead>\n",
              "  <tbody>\n",
              "    <tr>\n",
              "      <th>count</th>\n",
              "      <td>2035.000000</td>\n",
              "      <td>2035.000000</td>\n",
              "      <td>2035.000000</td>\n",
              "      <td>2035.000000</td>\n",
              "      <td>2035.00000</td>\n",
              "      <td>2.035000e+03</td>\n",
              "      <td>2035.000000</td>\n",
              "    </tr>\n",
              "    <tr>\n",
              "      <th>mean</th>\n",
              "      <td>149.713735</td>\n",
              "      <td>151.992826</td>\n",
              "      <td>147.293931</td>\n",
              "      <td>149.474251</td>\n",
              "      <td>149.45027</td>\n",
              "      <td>2.335681e+06</td>\n",
              "      <td>3899.980565</td>\n",
              "    </tr>\n",
              "    <tr>\n",
              "      <th>std</th>\n",
              "      <td>48.664509</td>\n",
              "      <td>49.413109</td>\n",
              "      <td>47.931958</td>\n",
              "      <td>48.732570</td>\n",
              "      <td>48.71204</td>\n",
              "      <td>2.091778e+06</td>\n",
              "      <td>4570.767877</td>\n",
              "    </tr>\n",
              "    <tr>\n",
              "      <th>min</th>\n",
              "      <td>81.100000</td>\n",
              "      <td>82.800000</td>\n",
              "      <td>80.000000</td>\n",
              "      <td>81.000000</td>\n",
              "      <td>80.95000</td>\n",
              "      <td>3.961000e+04</td>\n",
              "      <td>37.040000</td>\n",
              "    </tr>\n",
              "    <tr>\n",
              "      <th>25%</th>\n",
              "      <td>120.025000</td>\n",
              "      <td>122.100000</td>\n",
              "      <td>118.300000</td>\n",
              "      <td>120.075000</td>\n",
              "      <td>120.05000</td>\n",
              "      <td>1.146444e+06</td>\n",
              "      <td>1427.460000</td>\n",
              "    </tr>\n",
              "    <tr>\n",
              "      <th>50%</th>\n",
              "      <td>141.500000</td>\n",
              "      <td>143.400000</td>\n",
              "      <td>139.600000</td>\n",
              "      <td>141.100000</td>\n",
              "      <td>141.25000</td>\n",
              "      <td>1.783456e+06</td>\n",
              "      <td>2512.030000</td>\n",
              "    </tr>\n",
              "    <tr>\n",
              "      <th>75%</th>\n",
              "      <td>157.175000</td>\n",
              "      <td>159.400000</td>\n",
              "      <td>155.150000</td>\n",
              "      <td>156.925000</td>\n",
              "      <td>156.90000</td>\n",
              "      <td>2.813594e+06</td>\n",
              "      <td>4539.015000</td>\n",
              "    </tr>\n",
              "    <tr>\n",
              "      <th>max</th>\n",
              "      <td>327.700000</td>\n",
              "      <td>328.750000</td>\n",
              "      <td>321.650000</td>\n",
              "      <td>325.950000</td>\n",
              "      <td>325.75000</td>\n",
              "      <td>2.919102e+07</td>\n",
              "      <td>55755.080000</td>\n",
              "    </tr>\n",
              "  </tbody>\n",
              "</table>\n",
              "</div>\n",
              "      <button class=\"colab-df-convert\" onclick=\"convertToInteractive('df-9edd948d-69b2-44d0-b7f7-f0f656f82708')\"\n",
              "              title=\"Convert this dataframe to an interactive table.\"\n",
              "              style=\"display:none;\">\n",
              "        \n",
              "  <svg xmlns=\"http://www.w3.org/2000/svg\" height=\"24px\"viewBox=\"0 0 24 24\"\n",
              "       width=\"24px\">\n",
              "    <path d=\"M0 0h24v24H0V0z\" fill=\"none\"/>\n",
              "    <path d=\"M18.56 5.44l.94 2.06.94-2.06 2.06-.94-2.06-.94-.94-2.06-.94 2.06-2.06.94zm-11 1L8.5 8.5l.94-2.06 2.06-.94-2.06-.94L8.5 2.5l-.94 2.06-2.06.94zm10 10l.94 2.06.94-2.06 2.06-.94-2.06-.94-.94-2.06-.94 2.06-2.06.94z\"/><path d=\"M17.41 7.96l-1.37-1.37c-.4-.4-.92-.59-1.43-.59-.52 0-1.04.2-1.43.59L10.3 9.45l-7.72 7.72c-.78.78-.78 2.05 0 2.83L4 21.41c.39.39.9.59 1.41.59.51 0 1.02-.2 1.41-.59l7.78-7.78 2.81-2.81c.8-.78.8-2.07 0-2.86zM5.41 20L4 18.59l7.72-7.72 1.47 1.35L5.41 20z\"/>\n",
              "  </svg>\n",
              "      </button>\n",
              "      \n",
              "  <style>\n",
              "    .colab-df-container {\n",
              "      display:flex;\n",
              "      flex-wrap:wrap;\n",
              "      gap: 12px;\n",
              "    }\n",
              "\n",
              "    .colab-df-convert {\n",
              "      background-color: #E8F0FE;\n",
              "      border: none;\n",
              "      border-radius: 50%;\n",
              "      cursor: pointer;\n",
              "      display: none;\n",
              "      fill: #1967D2;\n",
              "      height: 32px;\n",
              "      padding: 0 0 0 0;\n",
              "      width: 32px;\n",
              "    }\n",
              "\n",
              "    .colab-df-convert:hover {\n",
              "      background-color: #E2EBFA;\n",
              "      box-shadow: 0px 1px 2px rgba(60, 64, 67, 0.3), 0px 1px 3px 1px rgba(60, 64, 67, 0.15);\n",
              "      fill: #174EA6;\n",
              "    }\n",
              "\n",
              "    [theme=dark] .colab-df-convert {\n",
              "      background-color: #3B4455;\n",
              "      fill: #D2E3FC;\n",
              "    }\n",
              "\n",
              "    [theme=dark] .colab-df-convert:hover {\n",
              "      background-color: #434B5C;\n",
              "      box-shadow: 0px 1px 3px 1px rgba(0, 0, 0, 0.15);\n",
              "      filter: drop-shadow(0px 1px 2px rgba(0, 0, 0, 0.3));\n",
              "      fill: #FFFFFF;\n",
              "    }\n",
              "  </style>\n",
              "\n",
              "      <script>\n",
              "        const buttonEl =\n",
              "          document.querySelector('#df-9edd948d-69b2-44d0-b7f7-f0f656f82708 button.colab-df-convert');\n",
              "        buttonEl.style.display =\n",
              "          google.colab.kernel.accessAllowed ? 'block' : 'none';\n",
              "\n",
              "        async function convertToInteractive(key) {\n",
              "          const element = document.querySelector('#df-9edd948d-69b2-44d0-b7f7-f0f656f82708');\n",
              "          const dataTable =\n",
              "            await google.colab.kernel.invokeFunction('convertToInteractive',\n",
              "                                                     [key], {});\n",
              "          if (!dataTable) return;\n",
              "\n",
              "          const docLinkHtml = 'Like what you see? Visit the ' +\n",
              "            '<a target=\"_blank\" href=https://colab.research.google.com/notebooks/data_table.ipynb>data table notebook</a>'\n",
              "            + ' to learn more about interactive tables.';\n",
              "          element.innerHTML = '';\n",
              "          dataTable['output_type'] = 'display_data';\n",
              "          await google.colab.output.renderOutput(dataTable, element);\n",
              "          const docLink = document.createElement('div');\n",
              "          docLink.innerHTML = docLinkHtml;\n",
              "          element.appendChild(docLink);\n",
              "        }\n",
              "      </script>\n",
              "    </div>\n",
              "  </div>\n",
              "  "
            ]
          },
          "metadata": {},
          "execution_count": 7
        }
      ]
    },
    {
      "cell_type": "code",
      "source": [
        "#Data Preprocessing i.e checking the no of null values present\n",
        "df.isnull().sum()"
      ],
      "metadata": {
        "colab": {
          "base_uri": "https://localhost:8080/"
        },
        "id": "BfixMhpr6ssL",
        "outputId": "0e42831e-2b2f-4e27-e53d-306e231a4721"
      },
      "execution_count": 8,
      "outputs": [
        {
          "output_type": "execute_result",
          "data": {
            "text/plain": [
              "Date                    0\n",
              "Open                    0\n",
              "High                    0\n",
              "Low                     0\n",
              "Last                    0\n",
              "Close                   0\n",
              "Total Trade Quantity    0\n",
              "Turnover (Lacs)         0\n",
              "dtype: int64"
            ]
          },
          "metadata": {},
          "execution_count": 8
        }
      ]
    },
    {
      "cell_type": "code",
      "source": [
        "duplicates= df.duplicated()\n",
        "duplicates.value_counts() # no duplicates present"
      ],
      "metadata": {
        "colab": {
          "base_uri": "https://localhost:8080/"
        },
        "id": "Kj6-dRZI6yKm",
        "outputId": "5d17b6d6-bce6-4e69-e3d7-ba49e83cd881"
      },
      "execution_count": 9,
      "outputs": [
        {
          "output_type": "execute_result",
          "data": {
            "text/plain": [
              "False    2035\n",
              "dtype: int64"
            ]
          },
          "metadata": {},
          "execution_count": 9
        }
      ]
    },
    {
      "cell_type": "code",
      "source": [
        "#visualizing the data frame using seaborn \n",
        "plt.figure(figsize=(8,8))\n",
        "sns.heatmap(df.corr(), annot=True)"
      ],
      "metadata": {
        "colab": {
          "base_uri": "https://localhost:8080/",
          "height": 595
        },
        "id": "eOtph-h8635V",
        "outputId": "86798e4f-2bd1-4f59-ac2b-46dfcb753f76"
      },
      "execution_count": 10,
      "outputs": [
        {
          "output_type": "execute_result",
          "data": {
            "text/plain": [
              "<matplotlib.axes._subplots.AxesSubplot at 0x7f8395647040>"
            ]
          },
          "metadata": {},
          "execution_count": 10
        },
        {
          "output_type": "display_data",
          "data": {
            "text/plain": [
              "<Figure size 576x576 with 2 Axes>"
            ],
            "image/png": "[encoded data removed]"
          },
          "metadata": {
            "needs_background": "light"
          }
        }
      ]
    },
    {
      "cell_type": "code",
      "source": [
        "df_high=df.reset_index()['High']\n",
        "plt.plot(df_high)"
      ],
      "metadata": {
        "colab": {
          "base_uri": "https://localhost:8080/",
          "height": 283
        },
        "id": "3Hiwmu6D68lM",
        "outputId": "b32f2b41-8eea-41eb-d04d-4a2a68c188af"
      },
      "execution_count": 11,
      "outputs": [
        {
          "output_type": "execute_result",
          "data": {
            "text/plain": [
              "[<matplotlib.lines.Line2D at 0x7f83926f47c0>]"
            ]
          },
          "metadata": {},
          "execution_count": 11
        },
        {
          "output_type": "display_data",
          "data": {
            "text/plain": [
              "<Figure size 432x288 with 1 Axes>"
            ],
            "image/png": "[encoded data removed]"
          },
          "metadata": {
            "needs_background": "light"
          }
        }
      ]
    },
    {
      "cell_type": "code",
      "source": [
        "#normalization using minmax scaler\n",
        "from sklearn.preprocessing import MinMaxScaler\n",
        "scaler = MinMaxScaler(feature_range = (0,1))\n",
        "df_high = scaler.fit_transform(np.array(df_high).reshape(-1,1))"
      ],
      "metadata": {
        "id": "X8EB_lCj7L5P"
      },
      "execution_count": 12,
      "outputs": []
    },
    {
      "cell_type": "code",
      "source": [
        "df_high.shape"
      ],
      "metadata": {
        "colab": {
          "base_uri": "https://localhost:8080/"
        },
        "id": "M-0Czo9l7OUV",
        "outputId": "b053f037-a05b-4be8-9a37-37aa491e608a"
      },
      "execution_count": 13,
      "outputs": [
        {
          "output_type": "execute_result",
          "data": {
            "text/plain": [
              "(2035, 1)"
            ]
          },
          "metadata": {},
          "execution_count": 13
        }
      ]
    },
    {
      "cell_type": "code",
      "source": [
        "df_high"
      ],
      "metadata": {
        "colab": {
          "base_uri": "https://localhost:8080/"
        },
        "id": "ENSAOFZY7QbP",
        "outputId": "0fb2406d-617f-4264-965a-760f632a03ed"
      },
      "execution_count": 14,
      "outputs": [
        {
          "output_type": "execute_result",
          "data": {
            "text/plain": [
              "array([[0.16344786],\n",
              "       [0.15938199],\n",
              "       [0.15917869],\n",
              "       ...,\n",
              "       [0.6391543 ],\n",
              "       [0.62614353],\n",
              "       [0.62268754]])"
            ]
          },
          "metadata": {},
          "execution_count": 14
        }
      ]
    },
    {
      "cell_type": "code",
      "source": [
        "#Split the data into train and test split\n",
        "training_size = int(len(df_high) * 0.75)\n",
        "test_size = len(df_high) - training_size\n",
        "train_data,test_data = df_high[0:training_size,:], df_high[training_size:len(df_high),:1]\n",
        "     \n",
        "\n",
        "training_size, test_size #prtinting the train size,test size"
      ],
      "metadata": {
        "colab": {
          "base_uri": "https://localhost:8080/"
        },
        "id": "-q-biURW7TRa",
        "outputId": "6b7699ae-6039-458c-9bdb-811a5fed8785"
      },
      "execution_count": 15,
      "outputs": [
        {
          "output_type": "execute_result",
          "data": {
            "text/plain": [
              "(1526, 509)"
            ]
          },
          "metadata": {},
          "execution_count": 15
        }
      ]
    },
    {
      "cell_type": "code",
      "source": [
        "# convert an array of values into a dataset matrix\n",
        "def create_dataset(dataset, time_step=1):\n",
        "    dataX, dataY = [], []\n",
        "    for i in range(len(dataset)-time_step-1):\n",
        "        a = dataset[i:(i+time_step), 0]  \n",
        "        dataX.append(a)\n",
        "        dataY.append(dataset[i + time_step, 0])\n",
        "    return np.array(dataX), np.array(dataY)\n",
        "     \n",
        "\n",
        "time_step = 100\n",
        "x_train, y_train = create_dataset(train_data, time_step)\n",
        "x_test, y_test = create_dataset(test_data, time_step)\n",
        "     \n",
        "\n",
        "#Reshape the input to be [samples, time steps, features] which is the requirement of LSTM\n",
        "x_train = x_train.reshape(x_train.shape[0], x_train.shape[1], 1)\n",
        "x_test = x_test.reshape(x_test.shape[0], x_test.shape[1], 1)\n",
        "     \n",
        "\n",
        "print(x_train.shape), print(y_train.shape)"
      ],
      "metadata": {
        "colab": {
          "base_uri": "https://localhost:8080/"
        },
        "id": "OOnupzcY7W-X",
        "outputId": "8ecba3a1-ae2c-436b-d61c-6fac4fa74500"
      },
      "execution_count": 16,
      "outputs": [
        {
          "output_type": "stream",
          "name": "stdout",
          "text": [
            "(1425, 100, 1)\n",
            "(1425,)\n"
          ]
        },
        {
          "output_type": "execute_result",
          "data": {
            "text/plain": [
              "(None, None)"
            ]
          },
          "metadata": {},
          "execution_count": 16
        }
      ]
    },
    {
      "cell_type": "code",
      "source": [
        "print(x_test.shape), print(y_test.shape)"
      ],
      "metadata": {
        "colab": {
          "base_uri": "https://localhost:8080/"
        },
        "id": "_eHT2F3d7dSU",
        "outputId": "da31ba36-e7d3-4917-f834-a2d71371b7a6"
      },
      "execution_count": 17,
      "outputs": [
        {
          "output_type": "stream",
          "name": "stdout",
          "text": [
            "(408, 100, 1)\n",
            "(408,)\n"
          ]
        },
        {
          "output_type": "execute_result",
          "data": {
            "text/plain": [
              "(None, None)"
            ]
          },
          "metadata": {},
          "execution_count": 17
        }
      ]
    },
    {
      "cell_type": "code",
      "source": [
        "#importing the tesnor flow library\n",
        "import tensorflow as tf\n",
        "from tensorflow.python.keras.models import Sequential\n",
        "from tensorflow.python.keras.layers import Dense\n",
        "from tensorflow.python.keras.layers import LSTM\n",
        "# Create the Stacked LSTM model\n",
        "model = Sequential()\n",
        "model.add(LSTM(50, return_sequences = True, input_shape = (100,1)))\n",
        "model.add(LSTM(50, return_sequences = True))\n",
        "model.add(LSTM(50))\n",
        "model.add(Dense(1))\n",
        "model.compile(loss = 'mean_squared_error', optimizer = 'adam')\n",
        "model.summary()"
      ],
      "metadata": {
        "colab": {
          "base_uri": "https://localhost:8080/"
        },
        "id": "y-DhzsM07e49",
        "outputId": "e78a1825-678d-400f-f606-f3ceb19b0e0c"
      },
      "execution_count": 18,
      "outputs": [
        {
          "output_type": "stream",
          "name": "stdout",
          "text": [
            "Model: \"sequential\"\n",
            "_________________________________________________________________\n",
            "Layer (type)                 Output Shape              Param #   \n",
            "=================================================================\n",
            "lstm (LSTM)                  (None, 100, 50)           10400     \n",
            "_________________________________________________________________\n",
            "lstm_1 (LSTM)                (None, 100, 50)           20200     \n",
            "_________________________________________________________________\n",
            "lstm_2 (LSTM)                (None, 50)                20200     \n",
            "_________________________________________________________________\n",
            "dense (Dense)                (None, 1)                 51        \n",
            "=================================================================\n",
            "Total params: 50,851\n",
            "Trainable params: 50,851\n",
            "Non-trainable params: 0\n",
            "_________________________________________________________________\n"
          ]
        }
      ]
    },
    {
      "cell_type": "code",
      "source": [
        "model.fit(x_train, y_train, validation_data = (x_test, y_test), epochs = 100, batch_size = 64, verbose = 1)"
      ],
      "metadata": {
        "colab": {
          "base_uri": "https://localhost:8080/"
        },
        "id": "GDCcmra87nf9",
        "outputId": "062c760a-4bc4-4055-f90f-c377213f3665"
      },
      "execution_count": 19,
      "outputs": [
        {
          "output_type": "stream",
          "name": "stdout",
          "text": [
            "Epoch 1/100\n",
            "23/23 [==============================] - 15s 373ms/step - loss: 0.0094 - val_loss: 0.0313\n",
            "Epoch 2/100\n",
            "23/23 [==============================] - 7s 304ms/step - loss: 0.0016 - val_loss: 0.0046\n",
            "Epoch 3/100\n",
            "23/23 [==============================] - 8s 338ms/step - loss: 8.1434e-04 - val_loss: 0.0035\n",
            "Epoch 4/100\n",
            "23/23 [==============================] - 8s 348ms/step - loss: 7.6483e-04 - val_loss: 0.0040\n",
            "Epoch 5/100\n",
            "23/23 [==============================] - 7s 305ms/step - loss: 7.3249e-04 - val_loss: 0.0036\n",
            "Epoch 6/100\n",
            "23/23 [==============================] - 8s 341ms/step - loss: 7.1150e-04 - val_loss: 0.0034\n",
            "Epoch 7/100\n",
            "23/23 [==============================] - 7s 326ms/step - loss: 6.8854e-04 - val_loss: 0.0046\n",
            "Epoch 8/100\n",
            "23/23 [==============================] - 7s 303ms/step - loss: 6.7431e-04 - val_loss: 0.0045\n",
            "Epoch 9/100\n",
            "23/23 [==============================] - 8s 334ms/step - loss: 6.7926e-04 - val_loss: 0.0052\n",
            "Epoch 10/100\n",
            "23/23 [==============================] - 7s 300ms/step - loss: 6.3086e-04 - val_loss: 0.0033\n",
            "Epoch 11/100\n",
            "23/23 [==============================] - 9s 375ms/step - loss: 5.9640e-04 - val_loss: 0.0041\n",
            "Epoch 12/100\n",
            "23/23 [==============================] - 8s 337ms/step - loss: 5.6776e-04 - val_loss: 0.0036\n",
            "Epoch 13/100\n",
            "23/23 [==============================] - 7s 297ms/step - loss: 5.5901e-04 - val_loss: 0.0042\n",
            "Epoch 14/100\n",
            "23/23 [==============================] - 8s 330ms/step - loss: 5.4395e-04 - val_loss: 0.0055\n",
            "Epoch 15/100\n",
            "23/23 [==============================] - 7s 326ms/step - loss: 5.2807e-04 - val_loss: 0.0085\n",
            "Epoch 16/100\n",
            "23/23 [==============================] - 7s 302ms/step - loss: 5.2527e-04 - val_loss: 0.0037\n",
            "Epoch 17/100\n",
            "23/23 [==============================] - 9s 400ms/step - loss: 5.1344e-04 - val_loss: 0.0076\n",
            "Epoch 18/100\n",
            "23/23 [==============================] - 7s 316ms/step - loss: 5.0571e-04 - val_loss: 0.0094\n",
            "Epoch 19/100\n",
            "23/23 [==============================] - 7s 314ms/step - loss: 4.9877e-04 - val_loss: 0.0058\n",
            "Epoch 20/100\n",
            "23/23 [==============================] - 8s 337ms/step - loss: 5.1933e-04 - val_loss: 0.0069\n",
            "Epoch 21/100\n",
            "23/23 [==============================] - 7s 303ms/step - loss: 4.6459e-04 - val_loss: 0.0069\n",
            "Epoch 22/100\n",
            "23/23 [==============================] - 8s 339ms/step - loss: 4.5474e-04 - val_loss: 0.0095\n",
            "Epoch 23/100\n",
            "23/23 [==============================] - 8s 343ms/step - loss: 4.7993e-04 - val_loss: 0.0075\n",
            "Epoch 24/100\n",
            "23/23 [==============================] - 7s 304ms/step - loss: 4.3724e-04 - val_loss: 0.0070\n",
            "Epoch 25/100\n",
            "23/23 [==============================] - 8s 337ms/step - loss: 4.3025e-04 - val_loss: 0.0068\n",
            "Epoch 26/100\n",
            "23/23 [==============================] - 7s 319ms/step - loss: 4.0717e-04 - val_loss: 0.0069\n",
            "Epoch 27/100\n",
            "23/23 [==============================] - 7s 312ms/step - loss: 3.9500e-04 - val_loss: 0.0083\n",
            "Epoch 28/100\n",
            "23/23 [==============================] - 8s 336ms/step - loss: 4.3393e-04 - val_loss: 0.0119\n",
            "Epoch 29/100\n",
            "23/23 [==============================] - 7s 301ms/step - loss: 5.0733e-04 - val_loss: 0.0069\n",
            "Epoch 30/100\n",
            "23/23 [==============================] - 8s 343ms/step - loss: 3.8345e-04 - val_loss: 0.0073\n",
            "Epoch 31/100\n",
            "23/23 [==============================] - 8s 338ms/step - loss: 3.8821e-04 - val_loss: 0.0046\n",
            "Epoch 32/100\n",
            "23/23 [==============================] - 7s 304ms/step - loss: 3.6092e-04 - val_loss: 0.0023\n",
            "Epoch 33/100\n",
            "23/23 [==============================] - 8s 337ms/step - loss: 3.8906e-04 - val_loss: 0.0062\n",
            "Epoch 34/100\n",
            "23/23 [==============================] - 7s 322ms/step - loss: 3.4321e-04 - val_loss: 0.0058\n",
            "Epoch 35/100\n",
            "23/23 [==============================] - 8s 341ms/step - loss: 3.6649e-04 - val_loss: 0.0066\n",
            "Epoch 36/100\n",
            "23/23 [==============================] - 14s 608ms/step - loss: 3.5811e-04 - val_loss: 0.0020\n",
            "Epoch 37/100\n",
            "23/23 [==============================] - 11s 465ms/step - loss: 3.1339e-04 - val_loss: 0.0041\n",
            "Epoch 38/100\n",
            "23/23 [==============================] - 10s 420ms/step - loss: 3.0473e-04 - val_loss: 0.0043\n",
            "Epoch 39/100\n",
            "23/23 [==============================] - 9s 381ms/step - loss: 2.9924e-04 - val_loss: 0.0065\n",
            "Epoch 40/100\n",
            "23/23 [==============================] - 8s 372ms/step - loss: 3.0092e-04 - val_loss: 0.0029\n",
            "Epoch 41/100\n",
            "23/23 [==============================] - 8s 350ms/step - loss: 2.8253e-04 - val_loss: 0.0034\n",
            "Epoch 42/100\n",
            "23/23 [==============================] - 8s 340ms/step - loss: 2.6615e-04 - val_loss: 0.0038\n",
            "Epoch 43/100\n",
            "23/23 [==============================] - 7s 303ms/step - loss: 2.6199e-04 - val_loss: 0.0036\n",
            "Epoch 44/100\n",
            "23/23 [==============================] - 8s 339ms/step - loss: 2.6570e-04 - val_loss: 0.0018\n",
            "Epoch 45/100\n",
            "23/23 [==============================] - 8s 347ms/step - loss: 2.4487e-04 - val_loss: 0.0030\n",
            "Epoch 46/100\n",
            "23/23 [==============================] - 7s 298ms/step - loss: 2.3613e-04 - val_loss: 0.0029\n",
            "Epoch 47/100\n",
            "23/23 [==============================] - 8s 334ms/step - loss: 2.3069e-04 - val_loss: 0.0041\n",
            "Epoch 48/100\n",
            "23/23 [==============================] - 7s 301ms/step - loss: 2.3501e-04 - val_loss: 0.0016\n",
            "Epoch 49/100\n",
            "23/23 [==============================] - 8s 333ms/step - loss: 2.3747e-04 - val_loss: 0.0029\n",
            "Epoch 50/100\n",
            "23/23 [==============================] - 11s 503ms/step - loss: 2.2291e-04 - val_loss: 0.0022\n",
            "Epoch 51/100\n",
            "23/23 [==============================] - 8s 330ms/step - loss: 2.0049e-04 - val_loss: 0.0015\n",
            "Epoch 52/100\n",
            "23/23 [==============================] - 8s 358ms/step - loss: 1.9570e-04 - val_loss: 0.0031\n",
            "Epoch 53/100\n",
            "23/23 [==============================] - 11s 496ms/step - loss: 1.9856e-04 - val_loss: 0.0012\n",
            "Epoch 54/100\n",
            "23/23 [==============================] - 10s 413ms/step - loss: 1.8301e-04 - val_loss: 0.0013\n",
            "Epoch 55/100\n",
            "23/23 [==============================] - 10s 440ms/step - loss: 1.8164e-04 - val_loss: 8.2764e-04\n",
            "Epoch 56/100\n",
            "23/23 [==============================] - 10s 427ms/step - loss: 1.8531e-04 - val_loss: 0.0014\n",
            "Epoch 57/100\n",
            "23/23 [==============================] - 8s 331ms/step - loss: 1.8518e-04 - val_loss: 0.0027\n",
            "Epoch 58/100\n",
            "23/23 [==============================] - 10s 429ms/step - loss: 1.6772e-04 - val_loss: 0.0011\n",
            "Epoch 59/100\n",
            "23/23 [==============================] - 9s 383ms/step - loss: 1.6035e-04 - val_loss: 0.0011\n",
            "Epoch 60/100\n",
            "23/23 [==============================] - 7s 315ms/step - loss: 1.5411e-04 - val_loss: 0.0013\n",
            "Epoch 61/100\n",
            "23/23 [==============================] - 8s 342ms/step - loss: 1.5321e-04 - val_loss: 0.0020\n",
            "Epoch 62/100\n",
            "23/23 [==============================] - 8s 340ms/step - loss: 1.6459e-04 - val_loss: 0.0025\n",
            "Epoch 63/100\n",
            "23/23 [==============================] - 7s 309ms/step - loss: 1.6126e-04 - val_loss: 0.0013\n",
            "Epoch 64/100\n",
            "23/23 [==============================] - 8s 343ms/step - loss: 1.4666e-04 - val_loss: 0.0012\n",
            "Epoch 65/100\n",
            "23/23 [==============================] - 8s 345ms/step - loss: 1.4438e-04 - val_loss: 0.0016\n",
            "Epoch 66/100\n",
            "23/23 [==============================] - 8s 343ms/step - loss: 1.3930e-04 - val_loss: 0.0027\n",
            "Epoch 67/100\n",
            "23/23 [==============================] - 8s 343ms/step - loss: 1.3582e-04 - val_loss: 0.0023\n",
            "Epoch 68/100\n",
            "23/23 [==============================] - 8s 340ms/step - loss: 1.5745e-04 - val_loss: 0.0011\n",
            "Epoch 69/100\n",
            "23/23 [==============================] - 7s 311ms/step - loss: 1.3583e-04 - val_loss: 0.0013\n",
            "Epoch 70/100\n",
            "23/23 [==============================] - 8s 345ms/step - loss: 1.2506e-04 - val_loss: 0.0019\n",
            "Epoch 71/100\n",
            "23/23 [==============================] - 7s 318ms/step - loss: 1.2127e-04 - val_loss: 0.0015\n",
            "Epoch 72/100\n",
            "23/23 [==============================] - 8s 332ms/step - loss: 1.2921e-04 - val_loss: 9.9468e-04\n",
            "Epoch 73/100\n",
            "23/23 [==============================] - 8s 350ms/step - loss: 1.5052e-04 - val_loss: 0.0013\n",
            "Epoch 74/100\n",
            "23/23 [==============================] - 7s 314ms/step - loss: 1.2131e-04 - val_loss: 0.0018\n",
            "Epoch 75/100\n",
            "23/23 [==============================] - 8s 352ms/step - loss: 1.2395e-04 - val_loss: 4.0893e-04\n",
            "Epoch 76/100\n",
            "23/23 [==============================] - 8s 351ms/step - loss: 1.3545e-04 - val_loss: 7.9339e-04\n",
            "Epoch 77/100\n",
            "23/23 [==============================] - 7s 317ms/step - loss: 1.2000e-04 - val_loss: 0.0016\n",
            "Epoch 78/100\n",
            "23/23 [==============================] - 8s 356ms/step - loss: 1.1596e-04 - val_loss: 7.4487e-04\n",
            "Epoch 79/100\n",
            "23/23 [==============================] - 8s 358ms/step - loss: 1.4755e-04 - val_loss: 0.0024\n",
            "Epoch 80/100\n",
            "23/23 [==============================] - 8s 351ms/step - loss: 1.6139e-04 - val_loss: 0.0012\n",
            "Epoch 81/100\n",
            "23/23 [==============================] - 8s 352ms/step - loss: 1.2583e-04 - val_loss: 0.0013\n",
            "Epoch 82/100\n",
            "23/23 [==============================] - 12s 546ms/step - loss: 1.3063e-04 - val_loss: 9.8702e-04\n",
            "Epoch 83/100\n",
            "23/23 [==============================] - 12s 523ms/step - loss: 1.1607e-04 - val_loss: 8.0998e-04\n",
            "Epoch 84/100\n",
            "23/23 [==============================] - 11s 467ms/step - loss: 1.2172e-04 - val_loss: 0.0013\n",
            "Epoch 85/100\n",
            "23/23 [==============================] - 8s 357ms/step - loss: 1.2358e-04 - val_loss: 5.8817e-04\n",
            "Epoch 86/100\n",
            "23/23 [==============================] - 7s 316ms/step - loss: 1.2636e-04 - val_loss: 0.0014\n",
            "Epoch 87/100\n",
            "23/23 [==============================] - 8s 358ms/step - loss: 1.1669e-04 - val_loss: 0.0015\n",
            "Epoch 88/100\n",
            "23/23 [==============================] - 8s 337ms/step - loss: 1.1038e-04 - val_loss: 0.0019\n",
            "Epoch 89/100\n",
            "23/23 [==============================] - 8s 331ms/step - loss: 1.1331e-04 - val_loss: 0.0016\n",
            "Epoch 90/100\n",
            "23/23 [==============================] - 8s 356ms/step - loss: 1.0869e-04 - val_loss: 0.0015\n",
            "Epoch 91/100\n",
            "23/23 [==============================] - 7s 327ms/step - loss: 1.1728e-04 - val_loss: 5.1651e-04\n",
            "Epoch 92/100\n",
            "23/23 [==============================] - 8s 343ms/step - loss: 1.2294e-04 - val_loss: 0.0023\n",
            "Epoch 93/100\n",
            "23/23 [==============================] - 8s 353ms/step - loss: 1.2249e-04 - val_loss: 0.0011\n",
            "Epoch 94/100\n",
            "23/23 [==============================] - 7s 321ms/step - loss: 1.1215e-04 - val_loss: 0.0013\n",
            "Epoch 95/100\n",
            "23/23 [==============================] - 9s 394ms/step - loss: 1.0894e-04 - val_loss: 7.9185e-04\n",
            "Epoch 96/100\n",
            "23/23 [==============================] - 8s 356ms/step - loss: 1.1614e-04 - val_loss: 8.6499e-04\n",
            "Epoch 97/100\n",
            "23/23 [==============================] - 8s 330ms/step - loss: 1.1820e-04 - val_loss: 0.0018\n",
            "Epoch 98/100\n",
            "23/23 [==============================] - 8s 338ms/step - loss: 1.2196e-04 - val_loss: 0.0012\n",
            "Epoch 99/100\n",
            "23/23 [==============================] - 8s 349ms/step - loss: 1.1163e-04 - val_loss: 0.0014\n",
            "Epoch 100/100\n",
            "23/23 [==============================] - 7s 316ms/step - loss: 1.2367e-04 - val_loss: 0.0026\n"
          ]
        },
        {
          "output_type": "execute_result",
          "data": {
            "text/plain": [
              "<tensorflow.python.keras.callbacks.History at 0x7f83342d18b0>"
            ]
          },
          "metadata": {},
          "execution_count": 19
        }
      ]
    },
    {
      "cell_type": "code",
      "source": [
        "#predictions\n",
        "#Lets predict and check performance metrics\n",
        "train_predict = model.predict(x_train)\n",
        "test_predict = model.predict(x_test)\n",
        "#Transform back to original form\n",
        "train_predict = scaler.inverse_transform(train_predict)\n",
        "test_predict = scaler.inverse_transform(test_predict)\n",
        "#Calculate RMSE performance metrics\n",
        "import math\n",
        "from sklearn.metrics import mean_squared_error\n",
        "math.sqrt(mean_squared_error(y_train, train_predict))"
      ],
      "metadata": {
        "colab": {
          "base_uri": "https://localhost:8080/"
        },
        "id": "BDpnV3ys-y0a",
        "outputId": "fcb70d5e-336a-490a-a3bc-5642cd7414e5"
      },
      "execution_count": 20,
      "outputs": [
        {
          "output_type": "execute_result",
          "data": {
            "text/plain": [
              "134.12159828263384"
            ]
          },
          "metadata": {},
          "execution_count": 20
        }
      ]
    },
    {
      "cell_type": "code",
      "source": [
        "#Test Data RMSE\n",
        "math.sqrt(mean_squared_error(y_test, test_predict))"
      ],
      "metadata": {
        "colab": {
          "base_uri": "https://localhost:8080/"
        },
        "id": "PSQ2gMX_-83Y",
        "outputId": "60e3c979-b3c5-43c5-aca0-21dd47ce556e"
      },
      "execution_count": 21,
      "outputs": [
        {
          "output_type": "execute_result",
          "data": {
            "text/plain": [
              "221.98394215044493"
            ]
          },
          "metadata": {},
          "execution_count": 21
        }
      ]
    },
    {
      "cell_type": "code",
      "source": [
        "#Plotting\n",
        "#Shift train prediction for plotting\n",
        "look_back = 100\n",
        "trainPredictPlot = np.empty_like(df_high)\n",
        "trainPredictPlot[:,:] = np.nan\n",
        "trainPredictPlot[look_back:len(train_predict) + look_back, :] = train_predict\n",
        "#Shift test prediction for plotting\n",
        "testPredictPlot = np.empty_like(df_high)\n",
        "testPredictPlot[:,:] = np.nan\n",
        "testPredictPlot[len(train_predict) + (look_back * 2)+1:len(df_high) - 1, :] = test_predict\n",
        "#Plot baseline and predictions\n",
        "plt.plot(scaler.inverse_transform(df_high))\n",
        "plt.plot(trainPredictPlot)\n",
        "plt.plot(testPredictPlot)\n",
        "plt.show()\n",
        "\n",
        "print(\"Green indicates the Predicted Data\")\n",
        "print(\"Blue indicates the Complete Data\")\n",
        "print(\"Orange indicates the Train Data\")"
      ],
      "metadata": {
        "colab": {
          "base_uri": "https://localhost:8080/",
          "height": 319
        },
        "id": "sFRr0cU9_Aso",
        "outputId": "c8c04574-2bef-44d1-8bcb-ce855e6337a5"
      },
      "execution_count": 22,
      "outputs": [
        {
          "output_type": "display_data",
          "data": {
            "text/plain": [
              "<Figure size 432x288 with 1 Axes>"
            ],
            "image/png": "[encoded data removed]"
          },
          "metadata": {
            "needs_background": "light"
          }
        },
        {
          "output_type": "stream",
          "name": "stdout",
          "text": [
            "Green indicates the Predicted Data\n",
            "Blue indicates the Complete Data\n",
            "Orange indicates the Train Data\n"
          ]
        }
      ]
    },
    {
      "cell_type": "code",
      "source": [
        "#Predict the next 28 days Stock Price\n",
        "len(test_data), x_test.shape"
      ],
      "metadata": {
        "colab": {
          "base_uri": "https://localhost:8080/"
        },
        "id": "SCK0jbRE_EOk",
        "outputId": "b9eb869f-2d5f-4122-847c-9c981758d979"
      },
      "execution_count": 23,
      "outputs": [
        {
          "output_type": "execute_result",
          "data": {
            "text/plain": [
              "(509, (408, 100, 1))"
            ]
          },
          "metadata": {},
          "execution_count": 23
        }
      ]
    },
    {
      "cell_type": "code",
      "source": [
        "x_input = test_data[409:].reshape(1,-1)\n",
        "x_input.shape"
      ],
      "metadata": {
        "colab": {
          "base_uri": "https://localhost:8080/"
        },
        "id": "WKzlD3bG_I17",
        "outputId": "ff06e917-80a5-41c1-808c-4007b994a184"
      },
      "execution_count": 24,
      "outputs": [
        {
          "output_type": "execute_result",
          "data": {
            "text/plain": [
              "(1, 100)"
            ]
          },
          "metadata": {},
          "execution_count": 24
        }
      ]
    },
    {
      "cell_type": "code",
      "source": [
        "day_new = np.arange(1,101)\n",
        "day_pred = np.arange(101,129)\n",
        "day_new.shape"
      ],
      "metadata": {
        "colab": {
          "base_uri": "https://localhost:8080/"
        },
        "id": "C3aEwScI_YIQ",
        "outputId": "2db71538-3bea-4c3a-8594-37484e9da547"
      },
      "execution_count": 27,
      "outputs": [
        {
          "output_type": "execute_result",
          "data": {
            "text/plain": [
              "(100,)"
            ]
          },
          "metadata": {},
          "execution_count": 27
        }
      ]
    },
    {
      "cell_type": "code",
      "source": [
        "day_pred.shape"
      ],
      "metadata": {
        "colab": {
          "base_uri": "https://localhost:8080/"
        },
        "id": "YFMk1-8v_gHb",
        "outputId": "6e80a153-9815-4d0b-a687-14bab21eafa1"
      },
      "execution_count": 28,
      "outputs": [
        {
          "output_type": "execute_result",
          "data": {
            "text/plain": [
              "(28,)"
            ]
          },
          "metadata": {},
          "execution_count": 28
        }
      ]
    },
    {
      "cell_type": "code",
      "source": [
        "len(df_high)"
      ],
      "metadata": {
        "colab": {
          "base_uri": "https://localhost:8080/"
        },
        "id": "SlIMniNf_jOs",
        "outputId": "88c31bb6-95ce-4454-f855-c1cb5005f80e"
      },
      "execution_count": 29,
      "outputs": [
        {
          "output_type": "execute_result",
          "data": {
            "text/plain": [
              "2035"
            ]
          },
          "metadata": {},
          "execution_count": 29
        }
      ]
    },
    {
      "cell_type": "code",
      "source": [
        "data_new = df_high.tolist()\n",
        "data_new =scaler.inverse_transform(data_new).tolist()\n",
        "plt.plot(data_new)"
      ],
      "metadata": {
        "colab": {
          "base_uri": "https://localhost:8080/",
          "height": 283
        },
        "id": "DS28zQ6yG72N",
        "outputId": "2c2111b0-6be7-4b78-b857-c28924305db7"
      },
      "execution_count": 34,
      "outputs": [
        {
          "output_type": "execute_result",
          "data": {
            "text/plain": [
              "[<matplotlib.lines.Line2D at 0x7f831f1720a0>]"
            ]
          },
          "metadata": {},
          "execution_count": 34
        },
        {
          "output_type": "display_data",
          "data": {
            "text/plain": [
              "<Figure size 432x288 with 1 Axes>"
            ],
            "image/png": "[encoded data removed]"
          },
          "metadata": {
            "needs_background": "light"
          }
        }
      ]
    }
  ]
}